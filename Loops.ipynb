{
 "cells": [
  {
   "cell_type": "markdown",
   "id": "bed1aacd-436e-43e6-bc7b-aa1ff01dae68",
   "metadata": {},
   "source": [
    "Loops Lab"
   ]
  },
  {
   "cell_type": "markdown",
   "id": "60a7bb64-eece-4efa-bf3e-f47d23d3b1b0",
   "metadata": {},
   "source": [
    "Print the elements of the following list: Genres=[ 'rock', 'R&B', 'Soundtrack', 'R&B', 'soul', 'pop']."
   ]
  },
  {
   "cell_type": "code",
   "execution_count": 7,
   "id": "d84c5534-97c2-417d-b9ca-5af859047935",
   "metadata": {},
   "outputs": [
    {
     "name": "stdout",
     "output_type": "stream",
     "text": [
      "rock\n",
      "R&B\n",
      "Soundtrack\n",
      "R&B\n",
      "soul\n",
      "pop\n"
     ]
    }
   ],
   "source": [
    "Genres=[ 'rock', 'R&B', 'Soundtrack', 'R&B', 'soul', 'pop']\n",
    "\n",
    "len(Genres)\n",
    "\n",
    "#for i in range(len(Genres)):\n",
    "#    print(Genres[i])\n",
    "\n",
    "for type in Genres:\n",
    "    print(type)"
   ]
  },
  {
   "cell_type": "markdown",
   "id": "0a8e0f08-eaa8-45f5-9687-eb59a117b57a",
   "metadata": {},
   "source": [
    "Write a for loop that prints out the following list: squares=['red', 'yellow', 'green', 'purple', 'blue']"
   ]
  },
  {
   "cell_type": "code",
   "execution_count": 24,
   "id": "554876af-9b48-42bd-9f78-f3ae85723564",
   "metadata": {},
   "outputs": [
    {
     "name": "stdout",
     "output_type": "stream",
     "text": [
      "red\n",
      "yellow\n",
      "green\n",
      "purple\n",
      "blue\n"
     ]
    }
   ],
   "source": [
    "squares=['red', 'yellow', 'green', 'purple', 'blue']\n",
    "M = len(squares)\n",
    "\n",
    "for square in squares:\n",
    "    print(square)"
   ]
  },
  {
   "cell_type": "markdown",
   "id": "00240028-6f26-43c1-8eb8-63c5966446df",
   "metadata": {},
   "source": [
    "Write a while loop to display the values of the Rating of an album playlist stored in thePlayListRatings list. If the score is less than 6, exit the loop. The list PlayListRatings is given by: PlayListRatings = [10, 9.5, 10, 8, 7.5, 5, 10, 10]\n"
   ]
  },
  {
   "cell_type": "code",
   "execution_count": null,
   "id": "a7aa840a-0acc-41c5-a200-b79fc585a68a",
   "metadata": {},
   "outputs": [],
   "source": [
    "PlayListRatings = [10, 9.5, 10, 8, 7.5, 5, 10, 10]\n",
    "\n",
    "#i = 6\n",
    "#rating = PlayListRatings[i]\n",
    "#while i < len(PlayListRatings):\n",
    "#    rating = PlayListRatings[i]\n",
    "#    i = i + 1\n",
    "#    print(rating)\n",
    "\n",
    "i = 0  # Initialize the counter\n",
    "while i < len(PlayListRatings):  # Loop while i is within bounds\n",
    "    rating = PlayListRatings[i]\n",
    "    if rating >= 6:\n",
    "        print(rating)\n",
    "    else:\n",
    "        print(\"Rating below estimated mark\")\n",
    "    i += 1  # Increment the counter!"
   ]
  }
 ],
 "metadata": {
  "kernelspec": {
   "display_name": "Python 3 (ipykernel)",
   "language": "python",
   "name": "python3"
  },
  "language_info": {
   "codemirror_mode": {
    "name": "ipython",
    "version": 3
   },
   "file_extension": ".py",
   "mimetype": "text/x-python",
   "name": "python",
   "nbconvert_exporter": "python",
   "pygments_lexer": "ipython3",
   "version": "3.12.4"
  }
 },
 "nbformat": 4,
 "nbformat_minor": 5
}
