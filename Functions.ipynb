{
 "cells": [
  {
   "cell_type": "markdown",
   "id": "6e875dde-7d30-4507-99b1-287d3a437a92",
   "metadata": {},
   "source": [
    "Functions"
   ]
  },
  {
   "cell_type": "markdown",
   "id": "de257806-1e4b-4a6d-9c14-91be74ebe97f",
   "metadata": {},
   "source": [
    "Write a function code to find total count of word little in the given string: \"Mary had a little lamb Little lamb, little lamb Mary had a little lamb.Its fleece was white as snow And everywhere that Mary went Mary went, Mary went Everywhere that Mary went The lamb was sure to go\"**"
   ]
  },
  {
   "cell_type": "code",
   "execution_count": 23,
   "id": "e1cc8244-c57f-4898-b822-1d10153ea698",
   "metadata": {},
   "outputs": [
    {
     "name": "stdout",
     "output_type": "stream",
     "text": [
      "Number of occurances: {'little': 3}\n"
     ]
    }
   ],
   "source": [
    "def frequency(string, keyword):\n",
    "    \"\"\"\n",
    "    This function returns how many times the word 'keyword' is present in the respective text\n",
    "    \"\"\"\n",
    "    text = []\n",
    "    text = string.split()\n",
    "    txtDict = {}\n",
    "    for key in text:\n",
    "        if (key == keyword):\n",
    "            txtDict[key] = text.count(key)\n",
    "    print(\"Number of occurances:\", txtDict)\n",
    "\n",
    "frequency(\"Mary had a little lamb Little lamb, little lamb Mary had a little lamb.Its fleece was white as snow And everywhere that Mary went Mary went, Mary went Everywhere that Mary went The lamb was sure to go\", \"little\")"
   ]
  },
  {
   "cell_type": "code",
   "execution_count": 33,
   "id": "29320986-7921-4488-97fd-f3da1ae26f7f",
   "metadata": {},
   "outputs": [
    {
     "data": {
      "text/plain": [
       "[1, 2, 3]"
      ]
     },
     "execution_count": 33,
     "metadata": {},
     "output_type": "execute_result"
    }
   ],
   "source": [
    "L=[1,3,2]\n",
    "\n",
    "sorted(L) "
   ]
  }
 ],
 "metadata": {
  "kernelspec": {
   "display_name": "Python 3 (ipykernel)",
   "language": "python",
   "name": "python3"
  },
  "language_info": {
   "codemirror_mode": {
    "name": "ipython",
    "version": 3
   },
   "file_extension": ".py",
   "mimetype": "text/x-python",
   "name": "python",
   "nbconvert_exporter": "python",
   "pygments_lexer": "ipython3",
   "version": "3.12.4"
  }
 },
 "nbformat": 4,
 "nbformat_minor": 5
}
